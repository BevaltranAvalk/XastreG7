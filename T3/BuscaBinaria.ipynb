{
 "cells": [
  {
   "cell_type": "code",
   "execution_count": 36,
   "id": "d0d1d0d0",
   "metadata": {},
   "outputs": [
    {
     "name": "stdout",
     "output_type": "stream",
     "text": [
      "O número 5000 não está na lista.\n",
      "Tempo de execução: 0.000000 segundos\n"
     ]
    }
   ],
   "source": [
    "import random\n",
    "import time\n",
    "\n",
    "def binary_search(lst, x):\n",
    "    left = 0\n",
    "    right = len(lst) - 1\n",
    "    while left <= right:\n",
    "        mid = (left + right) // 2\n",
    "        if lst[mid] == x:\n",
    "            return mid\n",
    "        elif lst[mid] < x:\n",
    "            left = mid + 1\n",
    "        else:\n",
    "            right = mid - 1\n",
    "    return -1\n",
    "\n",
    "# gerando uma lista aleatória com tamanho aleatório\n",
    "n = random.randint(10000, 1000000)\n",
    "lst = [random.randint(20, 2000000) for _ in range(n)]\n",
    "\n",
    "# ordenando a lista para a busca binária\n",
    "lst.sort()\n",
    "\n",
    "# buscando um número na lista\n",
    "x = 5000\n",
    "if x < lst[0] or x > lst[-1]:\n",
    "    print(f\"O número {x} não está na lista.\")\n",
    "    print(f\"Tempo de execução: {end_time - start_time:.6f} segundos\")\n",
    "else:\n",
    "    start_time = time.time()\n",
    "    result = binary_search(lst, x)\n",
    "    end_time = time.time()\n",
    "    if result == -1:\n",
    "        print(f\"O número {x} não está na lista.\")\n",
    "        print(f\"Tempo de execução: {end_time - start_time:.6f} segundos\")\n",
    "    else:\n",
    "        print(f\"O número {x} está na posição {result} da lista.\")\n",
    "        print(f\"Tempo de execução: {end_time - start_time:.6f} segundos\")\n",
    "\n",
    "        "
   ]
  },
  {
   "cell_type": "code",
   "execution_count": null,
   "id": "c99143f0",
   "metadata": {},
   "outputs": [],
   "source": []
  },
  {
   "cell_type": "code",
   "execution_count": null,
   "id": "a1d0b2f2",
   "metadata": {},
   "outputs": [],
   "source": []
  },
  {
   "cell_type": "code",
   "execution_count": null,
   "id": "d97aead3",
   "metadata": {},
   "outputs": [],
   "source": []
  }
 ],
 "metadata": {
  "kernelspec": {
   "display_name": "Python 3 (ipykernel)",
   "language": "python",
   "name": "python3"
  },
  "language_info": {
   "codemirror_mode": {
    "name": "ipython",
    "version": 3
   },
   "file_extension": ".py",
   "mimetype": "text/x-python",
   "name": "python",
   "nbconvert_exporter": "python",
   "pygments_lexer": "ipython3",
   "version": "3.9.12"
  }
 },
 "nbformat": 4,
 "nbformat_minor": 5
}
