{
 "cells": [
  {
   "cell_type": "code",
   "execution_count": 7,
   "id": "6187012f",
   "metadata": {},
   "outputs": [
    {
     "name": "stdout",
     "output_type": "stream",
     "text": [
      "O número 100000 não está na árvore binária.\n",
      "Tempo de execução: 0.000000 segundos\n"
     ]
    }
   ],
   "source": [
    "import random\n",
    "import time\n",
    "\n",
    "class Node:\n",
    "    def __init__(self, value):\n",
    "        self.value = value\n",
    "        self.left = None\n",
    "        self.right = None\n",
    "\n",
    "def insert(root, value):\n",
    "    if root is None:\n",
    "        return Node(value)\n",
    "    elif value < root.value:\n",
    "        root.left = insert(root.left, value)\n",
    "    elif value > root.value:\n",
    "        root.right = insert(root.right, value)\n",
    "    return root\n",
    "\n",
    "def search(root, value):\n",
    "    if root is None or root.value == value:\n",
    "        return root\n",
    "    elif root.value < value:\n",
    "        return search(root.right, value)\n",
    "    else:\n",
    "        return search(root.left, value)\n",
    "\n",
    "# gerando uma árvore binária aleatória\n",
    "n = random.randint(10000, 1000000)\n",
    "root = None\n",
    "for i in range(n):\n",
    "    root = insert(root, random.randint(20, 2000000))\n",
    "\n",
    "# buscando um número na árvore binária\n",
    "x = 100000\n",
    "start_time = time.time()\n",
    "result = search(root, x)\n",
    "end_time = time.time()\n",
    "\n",
    "# imprimindo o resultado e o tempo de execução\n",
    "if result is None:\n",
    "    print(f\"O número {x} não está na árvore binária.\")\n",
    "    print(f\"Tempo de execução: {end_time - start_time:.6f} segundos\")\n",
    "else:\n",
    "    print(f\"O número {x} está na árvore binária.\")\n",
    "    print(f\"Tempo de execução: {end_time - start_time:.6f} segundos\")\n"
   ]
  },
  {
   "cell_type": "code",
   "execution_count": null,
   "id": "44fe8a2a",
   "metadata": {},
   "outputs": [],
   "source": []
  }
 ],
 "metadata": {
  "kernelspec": {
   "display_name": "Python 3 (ipykernel)",
   "language": "python",
   "name": "python3"
  },
  "language_info": {
   "codemirror_mode": {
    "name": "ipython",
    "version": 3
   },
   "file_extension": ".py",
   "mimetype": "text/x-python",
   "name": "python",
   "nbconvert_exporter": "python",
   "pygments_lexer": "ipython3",
   "version": "3.9.12"
  }
 },
 "nbformat": 4,
 "nbformat_minor": 5
}
